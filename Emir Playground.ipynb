{
 "cells": [
  {
   "cell_type": "code",
   "execution_count": 23,
   "metadata": {},
   "outputs": [],
   "source": [
    "import os\n",
    "import scipy.io\n",
    "import numpy as np"
   ]
  },
  {
   "cell_type": "code",
   "execution_count": 3,
   "metadata": {},
   "outputs": [],
   "source": [
    "raw_data = scipy.io.loadmat(\"C:/Users/ameer/Desktop/p300/S1.mat\")"
   ]
  },
  {
   "cell_type": "code",
   "execution_count": 24,
   "metadata": {},
   "outputs": [
    {
     "data": {
      "text/plain": [
       "array([-1,  0,  1], dtype=int16)"
      ]
     },
     "execution_count": 24,
     "metadata": {},
     "output_type": "execute_result"
    }
   ],
   "source": [
    "np.unique(raw_data['trig'])"
   ]
  },
  {
   "cell_type": "code",
   "execution_count": 25,
   "metadata": {},
   "outputs": [
    {
     "data": {
      "text/plain": [
       "array([[11.56402179,  6.80619486, -0.83995814, ..., 36.27296291,\n",
       "         5.26554159,  4.03239408],\n",
       "       [11.49635358,  4.75029108,  0.26378368, ..., 33.88466381,\n",
       "         4.14728948,  3.81845581],\n",
       "       [11.02171639,  1.98897851,  1.27320769, ..., 30.81069542,\n",
       "         3.42672926,  3.91739502],\n",
       "       ...,\n",
       "       [ 4.97852406, 15.32676883, 21.25874003, ..., 17.1257646 ,\n",
       "        10.89982246,  6.68187663],\n",
       "       [ 5.14822342, 13.95669095, 21.16723706, ..., 18.23189478,\n",
       "        13.04981869,  8.32561577],\n",
       "       [ 4.24808637, 12.5348723 , 19.93682812, ..., 18.69628354,\n",
       "        14.55456242,  8.99554346]])"
      ]
     },
     "execution_count": 25,
     "metadata": {},
     "output_type": "execute_result"
    }
   ],
   "source": [
    "raw_data['y']"
   ]
  },
  {
   "cell_type": "code",
   "execution_count": 26,
   "metadata": {},
   "outputs": [
    {
     "data": {
      "text/plain": [
       "{'__header__': b'MATLAB 5.0 MAT-file, Platform: PCWIN64, Created on: Thu Jun 25 11:26:35 2020',\n",
       " '__version__': '1.0',\n",
       " '__globals__': [],\n",
       " 'fs': array([[250]], dtype=uint8),\n",
       " 'trig': array([[0],\n",
       "        [0],\n",
       "        [0],\n",
       "        ...,\n",
       "        [0],\n",
       "        [0],\n",
       "        [0]], dtype=int16),\n",
       " 'y': array([[11.56402179,  6.80619486, -0.83995814, ..., 36.27296291,\n",
       "          5.26554159,  4.03239408],\n",
       "        [11.49635358,  4.75029108,  0.26378368, ..., 33.88466381,\n",
       "          4.14728948,  3.81845581],\n",
       "        [11.02171639,  1.98897851,  1.27320769, ..., 30.81069542,\n",
       "          3.42672926,  3.91739502],\n",
       "        ...,\n",
       "        [ 4.97852406, 15.32676883, 21.25874003, ..., 17.1257646 ,\n",
       "         10.89982246,  6.68187663],\n",
       "        [ 5.14822342, 13.95669095, 21.16723706, ..., 18.23189478,\n",
       "         13.04981869,  8.32561577],\n",
       "        [ 4.24808637, 12.5348723 , 19.93682812, ..., 18.69628354,\n",
       "         14.55456242,  8.99554346]])}"
      ]
     },
     "execution_count": 26,
     "metadata": {},
     "output_type": "execute_result"
    }
   ],
   "source": [
    "raw_data"
   ]
  }
 ],
 "metadata": {
  "kernelspec": {
   "display_name": "base",
   "language": "python",
   "name": "python3"
  },
  "language_info": {
   "codemirror_mode": {
    "name": "ipython",
    "version": 3
   },
   "file_extension": ".py",
   "mimetype": "text/x-python",
   "name": "python",
   "nbconvert_exporter": "python",
   "pygments_lexer": "ipython3",
   "version": "3.11.5"
  }
 },
 "nbformat": 4,
 "nbformat_minor": 2
}
