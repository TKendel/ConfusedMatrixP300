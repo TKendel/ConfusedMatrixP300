{
  "cells": [
    {
      "cell_type": "code",
      "execution_count": 1,
      "metadata": {
        "id": "r9LhX6zmKTeV"
      },
      "outputs": [],
      "source": [
        "import os\n",
        "import scipy.io\n",
        "import numpy as np\n",
        "import pandas as pd\n",
        "import seaborn as sns\n",
        "import matplotlib.pyplot as plt"
      ]
    },
    {
      "cell_type": "code",
      "execution_count": 4,
      "metadata": {
        "colab": {
          "base_uri": "https://localhost:8080/",
          "height": 73
        },
        "id": "CPvT8HQWKYOv",
        "outputId": "98f42483-ee9b-438c-daaa-0da4911a892b"
      },
      "outputs": [],
      "source": [
        "#from google.colab import files\n",
        "#uploaded = files.upload()\n",
        "df = pd.read_csv('full_dataset_filtered.csv')"
      ]
    },
    {
      "cell_type": "code",
      "execution_count": 5,
      "metadata": {
        "id": "cX5npvTvKimy"
      },
      "outputs": [],
      "source": [
        "# DON'T USE IT\n",
        "# This method segments all the data into ordinal epochs.\n",
        "def segment_epochs_all(data):\n",
        "    data['signal'] = data['trigger'].apply(lambda x: 'Yes' if x == 1 or x == -1 else 'No')\n",
        "\n",
        "    data['epoch'] = 0\n",
        "    # Calculating time difference between samples\n",
        "    fs = 250  # Sampling frequency in Hz\n",
        "    time_diff = 1 / fs  # Time difference between samples\n",
        "\n",
        "    # Time before and after trigger event (in seconds)\n",
        "    time_before = 0.1\n",
        "    time_after = 0.7\n",
        "\n",
        "    # Number of samples before and after the trigger event\n",
        "    n_before = int(time_before / time_diff)  # Should be 25 samples\n",
        "    n_after = int(time_after / time_diff)    # Should be 175 samples\n",
        "\n",
        "    # Total number of samples in an epoch\n",
        "    n_epoch = n_before + n_after  # 200 samples\n",
        "\n",
        "    # Get the unique participant IDs\n",
        "    participant_ids = data['participant_id'].unique()\n",
        "\n",
        "    for participant_id in participant_ids:\n",
        "        # Filter data for the current participant\n",
        "        participant_data = data[data['participant_id'] == participant_id].reset_index(drop=True)\n",
        "\n",
        "        # Reset index to align with original data index\n",
        "        participant_data.reset_index(inplace=True)\n",
        "\n",
        "        # Find indices where 'signal' is 'Yes' (trigger events)\n",
        "        trigger_indices = participant_data.index[participant_data['signal'] == 'Yes'].tolist()\n",
        "\n",
        "        for trigger_index in trigger_indices:\n",
        "            # Calculate start and end indices for the epoch\n",
        "            start_idx = trigger_index - n_before\n",
        "            end_idx = trigger_index + n_after\n",
        "\n",
        "            # Handle boundary conditions\n",
        "            if start_idx < 0:\n",
        "                start_idx = 0\n",
        "            if end_idx > len(participant_data):\n",
        "                end_idx = len(participant_data)\n",
        "\n",
        "            # Add 1 to epoch for when a section is covered by a signal\n",
        "\n",
        "            # Get the integer position of the 'epoch' column\n",
        "            epoch_col_idx = participant_data.columns.get_loc('epoch')\n",
        "\n",
        "            # Increment the 'epoch' column for the specified range\n",
        "            participant_data.iloc[start_idx:end_idx, epoch_col_idx] += 1\n",
        "\n",
        "        # Update 'data' with the modified 'participant_data'\n",
        "        data.update(participant_data.set_index('index'))\n",
        "\n",
        "    return data"
      ]
    },
    {
      "cell_type": "code",
      "execution_count": 12,
      "metadata": {
        "id": "C9nO2A1lNT9V"
      },
      "outputs": [],
      "source": [
        "# USE THIS\n",
        "# This method creates a datsaset which only keeps the relevant segments around signals and orders them from first to last\n",
        "def segment_epochs_signal_only(data):\n",
        "    data['signal'] = data['trigger'].apply(lambda x: 'Yes' if x == 1 or x == -1 else 'No')\n",
        "\n",
        "    # Calculating time difference between samples\n",
        "    fs = 250  # Sampling frequency in Hz\n",
        "    time_diff = 1 / fs  # Time difference between samples\n",
        "\n",
        "    # Time before and after trigger event (in seconds)\n",
        "    time_before = -0.2\n",
        "    time_after = 0.4\n",
        "\n",
        "    # Number of samples before and after the trigger event\n",
        "    n_before = int(time_before / time_diff)  # Should be 25 samples\n",
        "    n_after = int(time_after / time_diff)    # Should be 175 samples\n",
        "\n",
        "    epochs = []\n",
        "\n",
        "    # Get the unique participant IDs\n",
        "    participant_ids = data['participant_id'].unique()\n",
        "\n",
        "    for participant_id in participant_ids:\n",
        "        # Filter data for the current participant\n",
        "        participant_data = data[data['participant_id'] == participant_id].reset_index(drop=True)\n",
        "\n",
        "        # Reset epoch counter for each participant\n",
        "        e = 1\n",
        "\n",
        "        # Find indices where 'signal' is 'Yes' (trigger events)\n",
        "        trigger_indices = participant_data.index[participant_data['signal'] == 'Yes'].tolist()\n",
        "        one_indices = participant_data.index[participant_data['trigger'] == 1].tolist()\n",
        "        minus_one_indices = participant_data.index[participant_data['trigger'] == -1].tolist()\n",
        "\n",
        "        for trigger_index in trigger_indices:\n",
        "            current_trigger = 0\n",
        "            if trigger_index in one_indices:\n",
        "                current_trigger = 1\n",
        "            else:\n",
        "                current_trigger = -1\n",
        "\n",
        "            # Calculate start and end indices for the epoch\n",
        "            start_idx = trigger_index - n_before\n",
        "            end_idx = trigger_index + n_after\n",
        "\n",
        "            # Handle boundary conditions\n",
        "            if start_idx < 0:\n",
        "                start_idx = 0\n",
        "            if end_idx > len(participant_data):\n",
        "                end_idx = len(participant_data)\n",
        "\n",
        "            # Extract the epoch data\n",
        "            epoch_data = participant_data.iloc[start_idx:end_idx].copy()\n",
        "\n",
        "            # Assign epoch number\n",
        "            epoch_data['epoch'] = e\n",
        "            epoch_data['trigger'] = current_trigger\n",
        "            epoch_data = epoch_data.drop('signal', axis=1)\n",
        "            # Append epoch data to the list\n",
        "            epochs.append(epoch_data)\n",
        "\n",
        "            # Increment epoch counter\n",
        "            e += 1\n",
        "\n",
        "    # Combine all epochs into one DataFrame\n",
        "    epochs_df = pd.concat(epochs, ignore_index=True)\n",
        "    return epochs_df"
      ]
    },
    {
      "cell_type": "code",
      "execution_count": 13,
      "metadata": {
        "id": "0Z_86dM5ORlr"
      },
      "outputs": [],
      "source": [
        "df_epochs_signal_only = segment_epochs_signal_only(df)"
      ]
    },
    {
      "cell_type": "code",
      "execution_count": 14,
      "metadata": {
        "colab": {
          "base_uri": "https://localhost:8080/"
        },
        "id": "xcXexFVQObGY",
        "outputId": "2914c957-d7e2-4875-f510-c31aae5e861b"
      },
      "outputs": [
        {
          "name": "stdout",
          "output_type": "stream",
          "text": [
            "(300000, 13)\n",
            "[   1    2    3 ... 1198 1199 1200]\n",
            "        Unnamed: 0  participant_id  timestep  channel_1  channel_2  channel_3  \\\n",
            "0             1304               1      1305  -8.490258 -10.920556 -12.961996   \n",
            "1             1305               1      1306  -7.463532  -9.866554 -10.135410   \n",
            "2             1306               1      1307  -6.666172  -8.835976  -7.171571   \n",
            "3             1307               1      1308  -6.265530  -7.866823  -4.506567   \n",
            "4             1308               1      1309  -6.182593  -6.950725  -2.760649   \n",
            "...            ...             ...       ...        ...        ...        ...   \n",
            "299995       59617               5     59618  22.712175   3.506215   2.354223   \n",
            "299996       59618               5     59619  20.421969   1.866547   1.300665   \n",
            "299997       59619               5     59620  18.440341   0.286018  -0.325816   \n",
            "299998       59620               5     59621  17.655489  -0.502610  -1.580808   \n",
            "299999       59621               5     59622  18.336784  -0.110967  -1.675486   \n",
            "\n",
            "        channel_4  channel_5  channel_6  channel_7  channel_8  trigger  epoch  \n",
            "0       -9.739793  -9.171843 -20.555569 -13.363796  -4.948041       -1      1  \n",
            "1       -8.772726  -7.140858 -18.882464 -11.459887  -1.812805       -1      1  \n",
            "2       -7.956743  -5.445152 -17.057520  -9.663502   0.824250       -1      1  \n",
            "3       -7.619403  -4.515721 -15.291914  -8.453414   2.241393       -1      1  \n",
            "4       -7.603128  -4.391603 -13.710365  -7.924245   2.399999       -1      1  \n",
            "...           ...        ...        ...        ...        ...      ...    ...  \n",
            "299995  -2.288319   8.782410  10.182233   5.027869   1.739054       -1   1200  \n",
            "299996  -4.131820   8.354936   9.238517   5.569983   0.988509       -1   1200  \n",
            "299997  -5.966371   7.760078   8.035710   5.619467  -0.435128       -1   1200  \n",
            "299998  -7.189736   7.235018   7.352989   5.460775  -1.873890       -1   1200  \n",
            "299999  -7.037570   6.922756   7.535701   5.303877  -2.768486       -1   1200  \n",
            "\n",
            "[300000 rows x 13 columns]\n"
          ]
        }
      ],
      "source": [
        "print(df_epochs_signal_only.shape)\n",
        "print(df_epochs_signal_only[\"epoch\"].unique())\n",
        "print(df_epochs_signal_only)"
      ]
    },
    {
      "cell_type": "code",
      "execution_count": 15,
      "metadata": {},
      "outputs": [],
      "source": [
        "df_epochs_signal_only.to_csv(\"epoched_filted_dataset_finally.csv\")"
      ]
    }
  ],
  "metadata": {
    "colab": {
      "provenance": []
    },
    "kernelspec": {
      "display_name": "base",
      "language": "python",
      "name": "python3"
    },
    "language_info": {
      "codemirror_mode": {
        "name": "ipython",
        "version": 3
      },
      "file_extension": ".py",
      "mimetype": "text/x-python",
      "name": "python",
      "nbconvert_exporter": "python",
      "pygments_lexer": "ipython3",
      "version": "3.11.5"
    }
  },
  "nbformat": 4,
  "nbformat_minor": 0
}
