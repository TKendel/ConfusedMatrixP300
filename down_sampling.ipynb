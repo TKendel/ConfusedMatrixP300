{
 "cells": [
  {
   "cell_type": "code",
   "execution_count": null,
   "metadata": {
    "vscode": {
     "languageId": "plaintext"
    }
   },
   "outputs": [],
   "source": [
    "from scipy.io import loadmat\n",
    "import pandas as pd\n",
    "\n",
    "file_paths = [\n",
    "    '/content/drive/MyDrive/p300/S1.mat',\n",
    "    '/content/drive/MyDrive/p300/S2.mat',\n",
    "    '/content/drive/MyDrive/p300/S3.mat',\n",
    "    '/content/drive/MyDrive/p300/S4.mat',\n",
    "    '/content/drive/MyDrive/p300/S5.mat'\n",
    "]\n",
    "\n",
    "dfs = []\n",
    "\n",
    "data = loadmat(file_paths[0])\n",
    "eeg_data = data['y']\n",
    "trigger_data = data['trig']\n",
    "\n",
    "df1 = pd.DataFrame(eeg_data, columns=[f\"Ch_{i+1}\" for i in range(eeg_data.shape[1])])\n",
    "df1['trigger'] = trigger_data\n",
    "df1['subject'] = f\"S1\""
   ]
  },
  {
   "cell_type": "code",
   "execution_count": null,
   "metadata": {
    "vscode": {
     "languageId": "plaintext"
    }
   },
   "outputs": [],
   "source": [
    "df1.describe()"
   ]
  },
  {
   "cell_type": "code",
   "execution_count": null,
   "metadata": {
    "vscode": {
     "languageId": "plaintext"
    }
   },
   "outputs": [],
   "source": [
    "df1.head()"
   ]
  },
  {
   "cell_type": "code",
   "execution_count": null,
   "metadata": {
    "vscode": {
     "languageId": "plaintext"
    }
   },
   "outputs": [],
   "source": [
    "from scipy.signal import resample\n",
    "\n",
    "def downsample_eeg_with_subject(data, original_fs, target_fs):\n",
    "    numeric_cols = data.select_dtypes(include=[np.number]).columns\n",
    "    non_numeric_cols = ['subject']\n",
    "    \n",
    "    num_samples = int(len(data) * target_fs / original_fs)\n",
    "    \n",
    "    downsampled_numeric_data = pd.DataFrame()\n",
    "    for col in numeric_cols:\n",
    "        downsampled_numeric_data[col] = resample(data[col], num_samples)\n",
    "    \n",
    "    downsampled_non_numeric_data = pd.DataFrame()\n",
    "    for col in non_numeric_cols:\n",
    "        downsampled_non_numeric_data[col] = [data[col].iloc[0]] * num_samples\n",
    "        \n",
    "    downsampled_data = pd.concat([downsampled_numeric_data, downsampled_non_numeric_data], axis=1)\n",
    "    \n",
    "    return downsampled_data\n",
    "\n",
    "original_fs = 250\n",
    "\n",
    "downsampled_64Hz = downsample_eeg_with_subject(df1, original_fs, 64)\n",
    "print(\"Downsampled to 64 Hz:\", downsampled_64Hz.head())\n",
    "\n",
    "downsampled_128Hz = downsample_eeg_with_subject(df1, original_fs, 128)\n",
    "print(\"Downsampled to 128 Hz:\", downsampled_128Hz.head())\n"
   ]
  },
  {
   "cell_type": "code",
   "execution_count": null,
   "metadata": {
    "vscode": {
     "languageId": "plaintext"
    }
   },
   "outputs": [],
   "source": [
    "downsampled_64Hz.describe()"
   ]
  },
  {
   "cell_type": "code",
   "execution_count": null,
   "metadata": {
    "vscode": {
     "languageId": "plaintext"
    }
   },
   "outputs": [],
   "source": [
    "downsampled_64Hz.head()"
   ]
  },
  {
   "cell_type": "code",
   "execution_count": null,
   "metadata": {
    "vscode": {
     "languageId": "plaintext"
    }
   },
   "outputs": [],
   "source": []
  },
  {
   "cell_type": "code",
   "execution_count": null,
   "metadata": {
    "vscode": {
     "languageId": "plaintext"
    }
   },
   "outputs": [],
   "source": []
  }
 ],
 "metadata": {
  "language_info": {
   "name": "python"
  }
 },
 "nbformat": 4,
 "nbformat_minor": 2
}
