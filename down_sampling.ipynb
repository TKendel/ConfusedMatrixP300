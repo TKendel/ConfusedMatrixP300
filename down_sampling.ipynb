{
 "cells": [
  {
   "cell_type": "code",
   "execution_count": null,
   "metadata": {
    "vscode": {
     "languageId": "plaintext"
    }
   },
   "outputs": [],
   "source": [
    "import pandas as pd\n",
    "\n",
    "# Load the dataset\n",
    "file_path = '/content/full_dataset.csv'\n",
    "df = pd.read_csv(file_path)\n",
    "\n",
    "# Display the first few rows of the dataset to understand its structure\n",
    "df.head()\n"
   ]
  },
  {
   "cell_type": "code",
   "execution_count": null,
   "metadata": {
    "vscode": {
     "languageId": "plaintext"
    }
   },
   "outputs": [],
   "source": []
  },
  {
   "cell_type": "code",
   "execution_count": null,
   "metadata": {
    "vscode": {
     "languageId": "plaintext"
    }
   },
   "outputs": [],
   "source": [
    "# good one\n",
    "\n",
    "from scipy.signal import resample\n",
    "import numpy as np\n",
    "import pandas as pd\n",
    "\n",
    "def downsample_eeg_by_participant_and_epoch(data, original_fs, target_fs):\n",
    "    # Group the data by 'participant_id' and 'epoch'\n",
    "    grouped_data = data.groupby(['participant_id', 'epoch'])\n",
    "    \n",
    "    downsampled_data_list = []\n",
    "    \n",
    "    for (participant_id, epoch), group in grouped_data:\n",
    "        # Calculate the number of samples for downsampling\n",
    "        num_samples = int(len(group) * target_fs / original_fs)\n",
    "        \n",
    "        # Resample numeric columns (excluding 'participant_id' and 'epoch')\n",
    "        numeric_cols = group.select_dtypes(include=[np.number]).columns\n",
    "        \n",
    "        downsampled_numeric_data = pd.DataFrame()\n",
    "        for col in numeric_cols:\n",
    "            downsampled_numeric_data[col] = resample(group[col], num_samples)\n",
    "        \n",
    "        # Custom rounding for the 'trigger' column\n",
    "        def custom_round_trigger(val):\n",
    "            val = np.round(val)\n",
    "            return int(val)\n",
    "        \n",
    "        downsampled_numeric_data['trigger'] = downsampled_numeric_data['trigger'].apply(custom_round_trigger)\n",
    "        \n",
    "        # Add 'participant_id' and 'epoch' columns to the downsampled data\n",
    "        downsampled_numeric_data['participant_id'] = participant_id\n",
    "        downsampled_numeric_data['epoch'] = epoch\n",
    "        \n",
    "        downsampled_data_list.append(downsampled_numeric_data)\n",
    "    \n",
    "    # Merge all downsampled data from each participant and epoch\n",
    "    downsampled_data = pd.concat(downsampled_data_list, ignore_index=True)\n",
    "    \n",
    "    return downsampled_data\n",
    "\n",
    "# Load the dataset\n",
    "file_path = '/content/epoched_filted_dataset_finally.csv'\n",
    "df = pd.read_csv(file_path)\n",
    "\n",
    "# Downsample the data for each participant and epoch and merge\n",
    "downsampled_125Hz = downsample_eeg_by_participant_and_epoch(df, original_fs=250, target_fs=125)\n",
    "\n",
    "# Verify the downsampling\n",
    "verify_downsampling(df, downsampled_125Hz)\n"
   ]
  },
  {
   "cell_type": "code",
   "execution_count": null,
   "metadata": {
    "vscode": {
     "languageId": "plaintext"
    }
   },
   "outputs": [],
   "source": []
  },
  {
   "cell_type": "code",
   "execution_count": null,
   "metadata": {
    "vscode": {
     "languageId": "plaintext"
    }
   },
   "outputs": [],
   "source": [
    "from scipy.signal import resample\n",
    "import numpy as np\n",
    "import pandas as pd\n",
    "\n",
    "def downsample_eeg_with_subject(data, original_fs, target_fs):\n",
    "    numeric_cols = data.select_dtypes(include=[np.number]).columns.difference(['trigger'])\n",
    "    non_numeric_cols = ['participant_id']\n",
    "    \n",
    "    # Calculate number of samples after downsampling\n",
    "    num_samples = int(len(data) * target_fs / original_fs)\n",
    "    \n",
    "    # Resample numeric columns (excluding 'trigger')\n",
    "    downsampled_numeric_data = pd.DataFrame()\n",
    "    for col in numeric_cols:\n",
    "        downsampled_numeric_data[col] = resample(data[col], num_samples)\n",
    "    \n",
    "    # Handle the 'trigger' column separately\n",
    "    window_size = original_fs // target_fs  # Define the window size based on the downsampling ratio\n",
    "    downsampled_trigger = []\n",
    "    \n",
    "    # Iterate through each window in the 'trigger' column\n",
    "    for i in range(0, len(data), window_size):\n",
    "        window_triggers = data['trigger'].iloc[i:i + window_size]\n",
    "        \n",
    "        # If there's at least one '1', keep it as '1', if not, check for '-1'\n",
    "        if (window_triggers == 1).any():\n",
    "            downsampled_trigger.append(1)\n",
    "        elif (window_triggers == -1).any():\n",
    "            downsampled_trigger.append(-1)\n",
    "        else:\n",
    "            downsampled_trigger.append(0)\n",
    "    \n",
    "    # Create a DataFrame for the downsampled 'trigger'\n",
    "    downsampled_trigger_df = pd.DataFrame({'trigger': downsampled_trigger})\n",
    "    \n",
    "    # Process non-numeric columns (such as participant_id)\n",
    "    downsampled_non_numeric_data = pd.DataFrame()\n",
    "    for col in non_numeric_cols:\n",
    "        downsampled_non_numeric_data[col] = [data[col].iloc[0]] * num_samples\n",
    "        \n",
    "    # Concatenate the downsampled numeric data, trigger column, and non-numeric columns\n",
    "    downsampled_data = pd.concat([downsampled_numeric_data.reset_index(drop=True),\n",
    "                                  downsampled_trigger_df.reset_index(drop=True),\n",
    "                                  downsampled_non_numeric_data.reset_index(drop=True)], axis=1)\n",
    "    \n",
    "    return downsampled_data\n",
    "\n",
    "# Example usage with original_fs = 250 Hz\n",
    "original_fs = 250\n",
    "\n",
    "# Downsample and preserve triggers\n",
    "downsampled_128Hz = downsample_eeg_with_subject(df, original_fs, 125)\n",
    "\n",
    "# Check the result\n",
    "verify_downsampling(df, downsampled_128Hz)\n"
   ]
  }
 ],
 "metadata": {
  "language_info": {
   "name": "python"
  }
 },
 "nbformat": 4,
 "nbformat_minor": 2
}
