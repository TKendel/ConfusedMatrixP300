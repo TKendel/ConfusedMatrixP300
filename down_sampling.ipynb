{
 "cells": [
  {
   "cell_type": "code",
   "execution_count": null,
   "metadata": {
    "vscode": {
     "languageId": "plaintext"
    }
   },
   "outputs": [],
   "source": [
    "import pandas as pd\n",
    "\n",
    "# Load the dataset\n",
    "file_path = '/content/full_dataset.csv'\n",
    "df = pd.read_csv(file_path)\n",
    "\n",
    "# Display the first few rows of the dataset to understand its structure\n",
    "df.head()\n"
   ]
  },
  {
   "cell_type": "code",
   "execution_count": null,
   "metadata": {
    "vscode": {
     "languageId": "plaintext"
    }
   },
   "outputs": [],
   "source": []
  },
  {
   "cell_type": "code",
   "execution_count": null,
   "metadata": {
    "vscode": {
     "languageId": "plaintext"
    }
   },
   "outputs": [],
   "source": [
    "from scipy.signal import resample\n",
    "import numpy as np\n",
    "import pandas as pd\n",
    "\n",
    "def downsample_eeg_with_subject(data, original_fs, target_fs):\n",
    "    numeric_cols = data.select_dtypes(include=[np.number]).columns\n",
    "    non_numeric_cols = ['participant_id']\n",
    "    \n",
    "    # Calculate number of samples after downsampling\n",
    "    num_samples = int(len(data) * target_fs / original_fs)\n",
    "    \n",
    "    # Resample numeric columns, including triggers\n",
    "    downsampled_numeric_data = pd.DataFrame()\n",
    "    for col in numeric_cols:\n",
    "        downsampled_numeric_data[col] = resample(data[col], num_samples)\n",
    "    \n",
    "    # Round the 'trigger' column: Custom rounding to ensure integers, and convert -0 to 0\n",
    "    def custom_round_trigger(val):\n",
    "        val = np.round(val)  # Round the value to the nearest integer\n",
    "        if val == -0:  # Ensure -0 becomes 0\n",
    "            return 0\n",
    "        return int(val)  # Convert to integer\n",
    "    \n",
    "    downsampled_numeric_data['trigger'] = downsampled_numeric_data['trigger'].apply(custom_round_trigger)\n",
    "    \n",
    "    # Process non-numeric columns (such as participant_id)\n",
    "    downsampled_non_numeric_data = pd.DataFrame()\n",
    "    for col in non_numeric_cols:\n",
    "        downsampled_non_numeric_data[col] = [data[col].iloc[0]] * num_samples\n",
    "        \n",
    "    # Concatenate the downsampled numeric data, trigger column, and non-numeric columns\n",
    "    downsampled_data = pd.concat([downsampled_numeric_data, downsampled_non_numeric_data], axis=1)\n",
    "    \n",
    "    return downsampled_data\n",
    "\n",
    "# Checkup Function to verify timestamp preservation and counts\n",
    "def verify_downsampling(original_data, downsampled_data):\n",
    "    # Follow the first '1' and '-1' in the original data and compare in the downsampled data\n",
    "    original_first_1_idx = original_data[original_data['trigger'] == 1].index[0]\n",
    "    original_first_neg1_idx = original_data[original_data['trigger'] == -1].index[0]\n",
    "    \n",
    "    downsampled_first_1_idx = downsampled_data[downsampled_data['trigger'] == 1].index[0] if len(downsampled_data[downsampled_data['trigger'] == 1]) > 0 else None\n",
    "    downsampled_first_neg1_idx = downsampled_data[downsampled_data['trigger'] == -1].index[0] if len(downsampled_data[downsampled_data['trigger'] == -1]) > 0 else None\n",
    "    \n",
    "    print(f\"First '1' in original data at index: {original_first_1_idx}\")\n",
    "    print(f\"First '1' in downsampled data at index: {downsampled_first_1_idx}\")\n",
    "    \n",
    "    print(f\"First '-1' in original data at index: {original_first_neg1_idx}\")\n",
    "    print(f\"First '-1' in downsampled data at index: {downsampled_first_neg1_idx}\")\n",
    "    \n",
    "    # Count the total number of '1s' and '-1s' in original and downsampled data\n",
    "    original_count_1s = original_data['trigger'].value_counts().get(1, 0)\n",
    "    original_count_neg1s = original_data['trigger'].value_counts().get(-1, 0)\n",
    "    \n",
    "    downsampled_count_1s = downsampled_data['trigger'].value_counts().get(1, 0)\n",
    "    downsampled_count_neg1s = downsampled_data['trigger'].value_counts().get(-1, 0)\n",
    "    \n",
    "    print(f\"Original data count of '1s': {original_count_1s}, '-1s': {original_count_neg1s}\")\n",
    "    print(f\"Downsampled data count of '1s': {downsampled_count_1s}, '-1s': {downsampled_count_neg1s}\")\n",
    "\n",
    "# Example usage with original_fs = 250 Hz\n",
    "original_fs = 250\n",
    "\n",
    "# Assuming df is your original dataframe with the data\n",
    "# downsampled_64Hz = downsample_eeg_with_subject(df, original_fs, 64)\n",
    "downsampled_128Hz = downsample_eeg_with_subject(df, original_fs, 125)\n",
    "\n",
    "# Run the check-up\n",
    "verify_downsampling(df, downsampled_128Hz)\n"
   ]
  },
  {
   "cell_type": "code",
   "execution_count": null,
   "metadata": {
    "vscode": {
     "languageId": "plaintext"
    }
   },
   "outputs": [],
   "source": []
  },
  {
   "cell_type": "code",
   "execution_count": null,
   "metadata": {
    "vscode": {
     "languageId": "plaintext"
    }
   },
   "outputs": [],
   "source": [
    "from scipy.signal import resample\n",
    "import numpy as np\n",
    "import pandas as pd\n",
    "\n",
    "def downsample_eeg_with_subject(data, original_fs, target_fs):\n",
    "    numeric_cols = data.select_dtypes(include=[np.number]).columns.difference(['trigger'])\n",
    "    non_numeric_cols = ['participant_id']\n",
    "    \n",
    "    # Calculate number of samples after downsampling\n",
    "    num_samples = int(len(data) * target_fs / original_fs)\n",
    "    \n",
    "    # Resample numeric columns (excluding 'trigger')\n",
    "    downsampled_numeric_data = pd.DataFrame()\n",
    "    for col in numeric_cols:\n",
    "        downsampled_numeric_data[col] = resample(data[col], num_samples)\n",
    "    \n",
    "    # Handle the 'trigger' column separately\n",
    "    window_size = original_fs // target_fs  # Define the window size based on the downsampling ratio\n",
    "    downsampled_trigger = []\n",
    "    \n",
    "    # Iterate through each window in the 'trigger' column\n",
    "    for i in range(0, len(data), window_size):\n",
    "        window_triggers = data['trigger'].iloc[i:i + window_size]\n",
    "        \n",
    "        # If there's at least one '1', keep it as '1', if not, check for '-1'\n",
    "        if (window_triggers == 1).any():\n",
    "            downsampled_trigger.append(1)\n",
    "        elif (window_triggers == -1).any():\n",
    "            downsampled_trigger.append(-1)\n",
    "        else:\n",
    "            downsampled_trigger.append(0)\n",
    "    \n",
    "    # Create a DataFrame for the downsampled 'trigger'\n",
    "    downsampled_trigger_df = pd.DataFrame({'trigger': downsampled_trigger})\n",
    "    \n",
    "    # Process non-numeric columns (such as participant_id)\n",
    "    downsampled_non_numeric_data = pd.DataFrame()\n",
    "    for col in non_numeric_cols:\n",
    "        downsampled_non_numeric_data[col] = [data[col].iloc[0]] * num_samples\n",
    "        \n",
    "    # Concatenate the downsampled numeric data, trigger column, and non-numeric columns\n",
    "    downsampled_data = pd.concat([downsampled_numeric_data.reset_index(drop=True),\n",
    "                                  downsampled_trigger_df.reset_index(drop=True),\n",
    "                                  downsampled_non_numeric_data.reset_index(drop=True)], axis=1)\n",
    "    \n",
    "    return downsampled_data\n",
    "\n",
    "# Example usage with original_fs = 250 Hz\n",
    "original_fs = 250\n",
    "\n",
    "# Downsample and preserve triggers\n",
    "downsampled_128Hz = downsample_eeg_with_subject(df, original_fs, 125)\n",
    "\n",
    "# Check the result\n",
    "verify_downsampling(df, downsampled_128Hz)\n"
   ]
  }
 ],
 "metadata": {
  "language_info": {
   "name": "python"
  }
 },
 "nbformat": 4,
 "nbformat_minor": 2
}
